{
  "nbformat": 4,
  "nbformat_minor": 0,
  "metadata": {
    "colab": {
      "provenance": []
    },
    "kernelspec": {
      "name": "python3",
      "display_name": "Python 3"
    },
    "language_info": {
      "name": "python"
    }
  },
  "cells": [
    {
      "cell_type": "code",
      "execution_count": 1,
      "metadata": {
        "colab": {
          "base_uri": "https://localhost:8080/",
          "height": 544
        },
        "id": "LaTPh3vwNJWZ",
        "outputId": "05318759-ac1b-492e-ff83-5048d85d0312"
      },
      "outputs": [
        {
          "output_type": "stream",
          "name": "stdout",
          "text": [
            "Accuracy: 100.0%\n",
            "Confusion Matrix: {'Iris-versicolor': {'Iris-versicolor': 1, 'Iris-virginica': 0, 'Iris-setosa': 0}, 'Iris-virginica': {'Iris-versicolor': 0, 'Iris-virginica': 1, 'Iris-setosa': 0}, 'Iris-setosa': {'Iris-versicolor': 0, 'Iris-virginica': 0, 'Iris-setosa': 0}}\n"
          ]
        },
        {
          "output_type": "display_data",
          "data": {
            "text/plain": [
              "<Figure size 640x480 with 1 Axes>"
            ],
            "image/png": "[encoded data removed]"
          },
          "metadata": {}
        },
        {
          "output_type": "stream",
          "name": "stdout",
          "text": [
            "Best K: 1 with accuracy: 100.0%\n"
          ]
        }
      ],
      "source": [
        "import math\n",
        "import random\n",
        "import matplotlib.pyplot as plt\n",
        "from collections import Counter\n",
        "\n",
        "def euclidean_distance(p1, p2):\n",
        "    return math.sqrt(sum((a - b) ** 2 for a, b in zip(p1, p2)))\n",
        "\n",
        "def train_test_split(dataset, split_ratio=0.8):\n",
        "    random.shuffle(dataset)\n",
        "    split_index = int(len(dataset) * split_ratio)\n",
        "    return dataset[:split_index], dataset[split_index:]\n",
        "\n",
        "def knn(train_data, test_point, k):\n",
        "\n",
        "    distances = [(euclidean_distance(test_point[:-1], train_point[:-1]), train_point[-1]) for train_point in train_data]\n",
        "\n",
        "    sorted_distances = sorted(distances, key=lambda x: x[0])[:k]\n",
        "\n",
        "    top_k_classes = [neighbor[1] for neighbor in sorted_distances]\n",
        "    predicted_class = Counter(top_k_classes).most_common(1)[0][0]\n",
        "\n",
        "    return predicted_class\n",
        "\n",
        "def accuracy_score(true_labels, predicted_labels):\n",
        "    correct = sum(1 for true, pred in zip(true_labels, predicted_labels) if true == pred)\n",
        "    return correct / len(true_labels) * 100\n",
        "\n",
        "def confusion_matrix(true_labels, predicted_labels, classes):\n",
        "    matrix = {class_label: {class_label: 0 for class_label in classes} for class_label in classes}\n",
        "    for true, pred in zip(true_labels, predicted_labels):\n",
        "        if true is not None and pred is not None:\n",
        "            matrix[true][pred] += 1\n",
        "    return matrix\n",
        "\n",
        "def k_vs_accuracy(train_data, test_data, max_k):\n",
        "    accuracies = []\n",
        "    k_values = range(1, max_k + 1)\n",
        "\n",
        "    for k in k_values:\n",
        "        predicted_labels = [knn(train_data, test_point, k) for test_point in test_data]\n",
        "        true_labels = [test_point[-1] for test_point in test_data]\n",
        "        accuracies.append(accuracy_score(true_labels, predicted_labels))\n",
        "\n",
        "    plt.plot(k_values, accuracies)\n",
        "    plt.xlabel('K')\n",
        "    plt.ylabel('Accuracy')\n",
        "    plt.title('K vs Accuracy')\n",
        "    plt.show()\n",
        "\n",
        "    best_k = k_values[accuracies.index(max(accuracies))]\n",
        "    return best_k, max(accuracies)\n",
        "\n",
        "iris_dataset = [\n",
        "    [5.1, 3.5, 1.4, 0.2, 'Iris-setosa'],\n",
        "    [4.9, 3.0, 1.4, 0.2, 'Iris-setosa'],\n",
        "    [6.2, 3.4, 5.4, 2.3, 'Iris-virginica'],\n",
        "    [5.9, 3.0, 5.1, 1.8, 'Iris-virginica'],\n",
        "    [5.5, 2.3, 4.0, 1.3, 'Iris-versicolor'],\n",
        "    [6.0, 2.2, 4.0, 1.0, 'Iris-versicolor'],\n",
        "\n",
        "]\n",
        "\n",
        "train_data, test_data = train_test_split(iris_dataset)\n",
        "\n",
        "predicted_labels = [knn(train_data, test_point, 3) for test_point in test_data]\n",
        "true_labels = [test_point[-1] for test_point in test_data]\n",
        "\n",
        "accuracy = accuracy_score(true_labels, predicted_labels)\n",
        "print(f\"Accuracy: {accuracy}%\")\n",
        "\n",
        "classes = set([point[-1] for point in iris_dataset])\n",
        "conf_matrix = confusion_matrix(true_labels, predicted_labels, classes)\n",
        "print(\"Confusion Matrix:\", conf_matrix)\n",
        "\n",
        "best_k, best_accuracy = k_vs_accuracy(train_data, test_data, max_k=10)\n",
        "print(f\"Best K: {best_k} with accuracy: {best_accuracy}%\")\n"
      ]
    }
  ]
}